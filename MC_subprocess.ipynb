{
 "cells": [
  {
   "cell_type": "code",
   "execution_count": 81,
   "metadata": {},
   "outputs": [],
   "source": [
    "import pandas as pd\n",
    "import re\n",
    "import numpy as np"
   ]
  },
  {
   "cell_type": "code",
   "execution_count": 82,
   "metadata": {
    "scrolled": true
   },
   "outputs": [
    {
     "data": {
      "text/html": [
       "<div>\n",
       "<style scoped>\n",
       "    .dataframe tbody tr th:only-of-type {\n",
       "        vertical-align: middle;\n",
       "    }\n",
       "\n",
       "    .dataframe tbody tr th {\n",
       "        vertical-align: top;\n",
       "    }\n",
       "\n",
       "    .dataframe thead th {\n",
       "        text-align: right;\n",
       "    }\n",
       "</style>\n",
       "<table border=\"1\" class=\"dataframe\">\n",
       "  <thead>\n",
       "    <tr style=\"text-align: right;\">\n",
       "      <th></th>\n",
       "      <th>layout</th>\n",
       "      <th>result</th>\n",
       "      <th>score</th>\n",
       "      <th>enemy</th>\n",
       "      <th>seed</th>\n",
       "    </tr>\n",
       "  </thead>\n",
       "  <tbody>\n",
       "    <tr>\n",
       "      <th>0</th>\n",
       "      <td>040</td>\n",
       "      <td>1</td>\n",
       "      <td>[30, 5]</td>\n",
       "      <td>RandomBots</td>\n",
       "      <td>60</td>\n",
       "    </tr>\n",
       "    <tr>\n",
       "      <th>1</th>\n",
       "      <td>006</td>\n",
       "      <td>1</td>\n",
       "      <td>[30, 20]</td>\n",
       "      <td>RandomBots</td>\n",
       "      <td>57</td>\n",
       "    </tr>\n",
       "    <tr>\n",
       "      <th>2</th>\n",
       "      <td>096</td>\n",
       "      <td>1</td>\n",
       "      <td>[30, 5]</td>\n",
       "      <td>RandomBots</td>\n",
       "      <td>26</td>\n",
       "    </tr>\n",
       "    <tr>\n",
       "      <th>3</th>\n",
       "      <td>029</td>\n",
       "      <td>1</td>\n",
       "      <td>[30, 5]</td>\n",
       "      <td>RandomBots</td>\n",
       "      <td>59</td>\n",
       "    </tr>\n",
       "    <tr>\n",
       "      <th>4</th>\n",
       "      <td>071</td>\n",
       "      <td>1</td>\n",
       "      <td>[30, 0]</td>\n",
       "      <td>RandomBots</td>\n",
       "      <td>35</td>\n",
       "    </tr>\n",
       "  </tbody>\n",
       "</table>\n",
       "</div>"
      ],
      "text/plain": [
       "  layout  result     score       enemy  seed\n",
       "0    040       1   [30, 5]  RandomBots    60\n",
       "1    006       1  [30, 20]  RandomBots    57\n",
       "2    096       1   [30, 5]  RandomBots    26\n",
       "3    029       1   [30, 5]  RandomBots    59\n",
       "4    071       1   [30, 0]  RandomBots    35"
      ]
     },
     "execution_count": 82,
     "metadata": {},
     "output_type": "execute_result"
    }
   ],
   "source": [
    "file = open('log.txt', 'r') \n",
    "seed_list = np.loadtxt('seed.txt',dtype=np.int)\n",
    "layout = []\n",
    "result = []\n",
    "score  = []\n",
    "enemy  = []\n",
    "for i,line in enumerate(file): \n",
    "    #print(line)\n",
    "    if((i%2)==0):\n",
    "        m = re.match(r'Using layout \\'layout_normal_without_dead_ends_(.*)\\'', str(line))\n",
    "        layout.append(m.group(1))\n",
    "    else:\n",
    "        n = re.match(r'Finished. \\'(.*)\\' won over \\'(.*)\\'. \\((.*):(.*)\\)', str(line))\n",
    "        if(n.group(1)=='Group0'):\n",
    "            result.append(1)\n",
    "            enemy.append(n.group(2))\n",
    "        else:\n",
    "            result.append(0)\n",
    "            enemy.append(n.group(1))\n",
    "        score.append([n.group(3),n.group(4)])\n",
    "        \n",
    "d = {'layout':layout,'result':result,'score':score,'enemy':enemy,'seed':seed_list}\n",
    "dat = pd.DataFrame(data=d)\n",
    "dat.head()"
   ]
  },
  {
   "cell_type": "code",
   "execution_count": null,
   "metadata": {},
   "outputs": [],
   "source": []
  },
  {
   "cell_type": "code",
   "execution_count": null,
   "metadata": {},
   "outputs": [],
   "source": []
  }
 ],
 "metadata": {
  "kernelspec": {
   "display_name": "Python 3",
   "language": "python",
   "name": "python3"
  },
  "language_info": {
   "codemirror_mode": {
    "name": "ipython",
    "version": 3
   },
   "file_extension": ".py",
   "mimetype": "text/x-python",
   "name": "python",
   "nbconvert_exporter": "python",
   "pygments_lexer": "ipython3",
   "version": "3.6.7"
  }
 },
 "nbformat": 4,
 "nbformat_minor": 2
}
