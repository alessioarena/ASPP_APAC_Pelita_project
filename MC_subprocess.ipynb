{
 "cells": [
  {
   "cell_type": "code",
   "execution_count": 8,
   "metadata": {},
   "outputs": [
    {
     "name": "stdout",
     "output_type": "stream",
     "text": [
      "The autoreload extension is already loaded. To reload it, use:\n",
      "  %reload_ext autoreload\n"
     ]
    }
   ],
   "source": [
    "%load_ext autoreload\n",
    "%autoreload\n",
    "\n",
    "import pandas as pd\n",
    "import re\n",
    "import numpy as np\n",
    "import os"
   ]
  },
  {
   "cell_type": "code",
   "execution_count": null,
   "metadata": {},
   "outputs": [
    {
     "data": {
      "application/vnd.jupyter.widget-view+json": {
       "model_id": "5bb0b4e8f8c140de96bea9269eb67bbb",
       "version_major": 2,
       "version_minor": 0
      },
      "text/plain": [
       "VBox(children=(HTML(value=''), IntProgress(value=0, max=20)))"
      ]
     },
     "metadata": {},
     "output_type": "display_data"
    }
   ],
   "source": [
    "import MC_subprocess\n",
    "try:\n",
    "    os.remove('log.txt')\n",
    "except:\n",
    "    pass\n",
    "try:\n",
    "    os.remove('seed.txt')\n",
    "except:\n",
    "    pass\n",
    "\n",
    "\n",
    "test_games = 20\n",
    "for s in MC_subprocess.log_progress(MC_subprocess.seeds_generator(test_games), every=1):\n",
    "    MC_subprocess.run_single('group0.py', 'Alessio/group0_alessio.py', s, new_file=False)"
   ]
  },
  {
   "cell_type": "code",
   "execution_count": 6,
   "metadata": {
    "scrolled": true
   },
   "outputs": [
    {
     "data": {
      "text/html": [
       "<div>\n",
       "<style scoped>\n",
       "    .dataframe tbody tr th:only-of-type {\n",
       "        vertical-align: middle;\n",
       "    }\n",
       "\n",
       "    .dataframe tbody tr th {\n",
       "        vertical-align: top;\n",
       "    }\n",
       "\n",
       "    .dataframe thead th {\n",
       "        text-align: right;\n",
       "    }\n",
       "</style>\n",
       "<table border=\"1\" class=\"dataframe\">\n",
       "  <thead>\n",
       "    <tr style=\"text-align: right;\">\n",
       "      <th></th>\n",
       "      <th>winner</th>\n",
       "      <th>score</th>\n",
       "      <th>looser</th>\n",
       "      <th>seed</th>\n",
       "    </tr>\n",
       "  </thead>\n",
       "  <tbody>\n",
       "    <tr>\n",
       "      <th>0</th>\n",
       "      <td>Weighted graph</td>\n",
       "      <td>[30, 7]</td>\n",
       "      <td>Group0</td>\n",
       "      <td>4776060</td>\n",
       "    </tr>\n",
       "    <tr>\n",
       "      <th>1</th>\n",
       "      <td>Weighted graph</td>\n",
       "      <td>[29, 22]</td>\n",
       "      <td>Group0</td>\n",
       "      <td>2693915</td>\n",
       "    </tr>\n",
       "    <tr>\n",
       "      <th>2</th>\n",
       "      <td>Group0</td>\n",
       "      <td>[35, 32]</td>\n",
       "      <td>Weighted graph</td>\n",
       "      <td>9586713</td>\n",
       "    </tr>\n",
       "  </tbody>\n",
       "</table>\n",
       "</div>"
      ],
      "text/plain": [
       "           winner     score          looser     seed\n",
       "0  Weighted graph   [30, 7]          Group0  4776060\n",
       "1  Weighted graph  [29, 22]          Group0  2693915\n",
       "2          Group0  [35, 32]  Weighted graph  9586713"
      ]
     },
     "execution_count": 6,
     "metadata": {},
     "output_type": "execute_result"
    }
   ],
   "source": [
    "file = open('log.txt', 'r') \n",
    "seed_list = np.loadtxt('seed.txt',dtype=np.int)\n",
    "layout = []\n",
    "win = []\n",
    "lost = []\n",
    "score  = []\n",
    "seed = []\n",
    "with open('log.txt', 'r') as file:\n",
    "    for line in file: \n",
    "        n = re.match(r'Finished. \\'(.*)\\' won over \\'(.*)\\'. \\((.*):(.*)\\)', str(line))\n",
    "        if n:\n",
    "            score.append([n.group(3),n.group(4)])\n",
    "            if score[-1] == ['0','0']:\n",
    "                win.append('{0} disqualified'.format(n.group(2)))\n",
    "            else:\n",
    "                win.append(n.group(1))\n",
    "            lost.append(n.group(2))\n",
    "            \n",
    "            \n",
    "        draw = re.match(r'Finished. \\'(.*)\\' and \\'(.*)\\' had a draw. \\((.*):(.*)\\)', str(line))\n",
    "        if draw:\n",
    "            win.append('DRAW')\n",
    "            lost.append('DRAW')\n",
    "            score.append([draw.group(3),draw.group(4)])\n",
    "d = {'winner':win,'score':score,'looser':lost, 'seed':seed_list}\n",
    "dat = pd.DataFrame(data=d)\n",
    "dat.head()"
   ]
  },
  {
   "cell_type": "code",
   "execution_count": 7,
   "metadata": {},
   "outputs": [
    {
     "data": {
      "text/plain": [
       "Weighted graph    66.666667\n",
       "Group0            33.333333\n",
       "Name: winner, dtype: float64"
      ]
     },
     "execution_count": 7,
     "metadata": {},
     "output_type": "execute_result"
    }
   ],
   "source": [
    "dat.winner.value_counts() / (test_games/100) # to convert to percentage"
   ]
  },
  {
   "cell_type": "code",
   "execution_count": 21,
   "metadata": {},
   "outputs": [
    {
     "data": {
      "text/plain": [
       "[50, 50, 50, 50]"
      ]
     },
     "execution_count": 21,
     "metadata": {},
     "output_type": "execute_result"
    }
   ],
   "source": [
    "[len(d[k]) for k in d.keys()]"
   ]
  }
 ],
 "metadata": {
  "kernelspec": {
   "display_name": "Python 3",
   "language": "python",
   "name": "python3"
  },
  "language_info": {
   "codemirror_mode": {
    "name": "ipython",
    "version": 3
   },
   "file_extension": ".py",
   "mimetype": "text/x-python",
   "name": "python",
   "nbconvert_exporter": "python",
   "pygments_lexer": "ipython3",
   "version": "3.6.6"
  }
 },
 "nbformat": 4,
 "nbformat_minor": 2
}
